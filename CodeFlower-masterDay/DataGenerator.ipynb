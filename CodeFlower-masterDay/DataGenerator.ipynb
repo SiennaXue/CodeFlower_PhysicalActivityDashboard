{
 "cells": [
  {
   "cell_type": "code",
   "execution_count": 1,
   "metadata": {
    "collapsed": true
   },
   "outputs": [],
   "source": [
    "import random\n",
    "import numpy as np"
   ]
  },
  {
   "cell_type": "code",
   "execution_count": 2,
   "metadata": {
    "collapsed": true
   },
   "outputs": [],
   "source": [
    "Hours = range(0,24)\n",
    "Minutes = range(0,60)"
   ]
  },
  {
   "cell_type": "code",
   "execution_count": 3,
   "metadata": {
    "collapsed": true
   },
   "outputs": [],
   "source": [
    "def gaussian(mean,sd):\n",
    "    return int(np.random.normal(mean,sd))"
   ]
  },
  {
   "cell_type": "code",
   "execution_count": 4,
   "metadata": {
    "collapsed": false
   },
   "outputs": [],
   "source": [
    "FakeData = {}\n",
    "for hour in Hours:\n",
    "    FakeData[hour] = {}\n",
    "    #HeartRate\n",
    "    HRmean = None\n",
    "    HRsd = None\n",
    "    if hour == 9 or hour == 15:\n",
    "        HRmean = random.randint(100,200)\n",
    "        HRsd = random.random()*50\n",
    "    #StepCount\n",
    "    SCmean = None\n",
    "    SCsd = None\n",
    "    if hour > 8 and hour < 23:\n",
    "        SCmean = random.randint(0,150)\n",
    "        SCsd = random.random()*50\n",
    "    for minute in Minutes:\n",
    "        FakeData[hour][minute] = {}\n",
    "        tempSize = 0\n",
    "        tempHr = 0\n",
    "        if SCmean is not None: \n",
    "            tempSize = gaussian(SCmean,SCsd)\n",
    "            if tempSize < 0:\n",
    "                tempSize = 0\n",
    "        if HRmean is not None:\n",
    "            tempHr = gaussian(HRmean,HRsd)\n",
    "            if tempHr < 0:\n",
    "                tempHr = 0\n",
    "        FakeData[hour][minute]['size'] = tempSize\n",
    "        FakeData[hour][minute]['hr'] =  tempHr"
   ]
  },
  {
   "cell_type": "code",
   "execution_count": 5,
   "metadata": {
    "collapsed": false
   },
   "outputs": [],
   "source": [
    "def leafNodeGenerator(Name,setpCount,HR):\n",
    "    temp = {}\n",
    "    temp[\"name\"] = Name\n",
    "    temp[\"size\"] = stepCount\n",
    "    temp[\"hr\"]  = HR\n",
    "    return temp\n",
    "def middleNodeGenerator(Name,children):\n",
    "    temp = {}\n",
    "    temp[\"name\"] = Name\n",
    "    temp[\"children\"] = children\n",
    "    return temp"
   ]
  },
  {
   "cell_type": "code",
   "execution_count": 6,
   "metadata": {
    "collapsed": false
   },
   "outputs": [],
   "source": [
    "DayNode = {}\n",
    "DayNode[\"name\"] = \"January-25\"\n",
    "DayChild = []\n",
    "for hour in Hours:\n",
    "    leafChild = []\n",
    "    for minute in Minutes:\n",
    "        hourType = '0' if len(str(hour)) == 1 else ''\n",
    "        hourType = hourType + str(hour)\n",
    "        minuteType = '0' if len(str(minute)) == 1 else ''\n",
    "        minuteType = minuteType + str(minute)\n",
    "        momentName = hourType + ':' + minuteType\n",
    "        stepCount = FakeData[hour][minute]['size']\n",
    "        HR = FakeData[hour][minute]['hr']\n",
    "        leafNode = leafNodeGenerator(momentName,stepCount,HR)\n",
    "        leafChild.append(leafNode)\n",
    "    HourNode = middleNodeGenerator(hour,leafChild)\n",
    "    DayChild.append(HourNode)\n",
    "DayNode[\"children\"]=DayChild"
   ]
  },
  {
   "cell_type": "code",
   "execution_count": 7,
   "metadata": {
    "collapsed": false
   },
   "outputs": [],
   "source": [
    "import json\n",
    "with open('data2.json', 'w') as fp:\n",
    "    json.dump(DayNode, fp)"
   ]
  },
  {
   "cell_type": "code",
   "execution_count": null,
   "metadata": {
    "collapsed": true
   },
   "outputs": [],
   "source": []
  },
  {
   "cell_type": "code",
   "execution_count": null,
   "metadata": {
    "collapsed": true
   },
   "outputs": [],
   "source": []
  },
  {
   "cell_type": "code",
   "execution_count": null,
   "metadata": {
    "collapsed": true
   },
   "outputs": [],
   "source": []
  }
 ],
 "metadata": {
  "anaconda-cloud": {},
  "kernelspec": {
   "display_name": "Python 2",
   "language": "python",
   "name": "python2"
  },
  "language_info": {
   "codemirror_mode": {
    "name": "ipython",
    "version": 2
   },
   "file_extension": ".py",
   "mimetype": "text/x-python",
   "name": "python",
   "nbconvert_exporter": "python",
   "pygments_lexer": "ipython2",
   "version": "2.7.12"
  }
 },
 "nbformat": 4,
 "nbformat_minor": 0
}
